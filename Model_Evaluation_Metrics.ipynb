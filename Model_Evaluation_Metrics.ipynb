{
  "nbformat": 4,
  "nbformat_minor": 0,
  "metadata": {
    "colab": {
      "name": "Model_Evaluation_Metrics.ipynb",
      "provenance": [],
      "collapsed_sections": [],
      "toc_visible": true
    },
    "kernelspec": {
      "name": "python3",
      "display_name": "Python 3"
    },
    "language_info": {
      "name": "python"
    }
  },
  "cells": [
    {
      "cell_type": "markdown",
      "metadata": {
        "id": "uKcJ7bdl1i1t"
      },
      "source": [
        "\n",
        "Model Evaluation Measures : For Classification \n",
        "---\n",
        "*   Metrics Based on Confusion Matrix \n",
        "*   Area under ROC\n",
        "*   KS\n",
        "*   Gini\n",
        "*   Lift- Gain\n",
        "*   Concordance\n",
        "*   Somer's D"
      ]
    },
    {
      "cell_type": "markdown",
      "metadata": {
        "id": "6SIOgamXJqx8"
      },
      "source": [
        "**Classfication** : Classification models can predict two outcomes, called binary classification; or multiple classes, called multiclass classification."
      ]
    },
    {
      "cell_type": "markdown",
      "metadata": {
        "id": "J_ih0yawPOx-"
      },
      "source": [
        "1. A **confusion matrix** is a way to visualize the results from a classification\n",
        "model and a specific decision threshold."
      ]
    },
    {
      "cell_type": "markdown",
      "metadata": {
        "id": "0kAlDkggPKPG"
      },
      "source": [
        "\n",
        "class| Predicted Negative | Predicted Postive \n",
        "--- | --- | --- \n",
        "**Acutal Negative** |**True Negative (TN)**  | **Flase Postive (FP)** \n",
        "**Acutal Positive** |**False Negative (FN)**  | **True Positive (TP)** \n",
        "\n",
        "\n",
        "A true positive is an outcome where the model correctly predicts the positive class. Similarly, a true negative is an outcome where the model correctly predicts the negative class.\n",
        "\n",
        "A false positive is an outcome where the model incorrectly predicts the positive class. And a false negative is an outcome where the model incorrectly predicts the negative class."
      ]
    },
    {
      "cell_type": "code",
      "metadata": {
        "id": "hIwkwLSfyBWK"
      },
      "source": [
        "import pandas as pd\n",
        "import numpy as np\n",
        "from sklearn.metrics import confusion_matrix\n",
        "# import seaborn as sns\n",
        "d=pd.read_csv(r'output.csv')\n",
        "d['y_pred']=np.where(d.prob>0.5,1,0)"
      ],
      "execution_count": null,
      "outputs": []
    },
    {
      "cell_type": "code",
      "metadata": {
        "id": "ZzMwx4x21bn1"
      },
      "source": [
        "d['y_pred']=np.where(d.prob>0.4,1,0)"
      ],
      "execution_count": null,
      "outputs": []
    },
    {
      "cell_type": "code",
      "metadata": {
        "colab": {
          "base_uri": "https://localhost:8080/"
        },
        "id": "kEiioMhEGR0i",
        "outputId": "e0c75b8c-6c33-4633-b299-60367d925d59"
      },
      "source": [
        "tn, fp, fn, tp =confusion_matrix(d.y, d.y_pred).ravel()\n",
        "print(tn,fp,fn,tp)"
      ],
      "execution_count": null,
      "outputs": [
        {
          "output_type": "stream",
          "text": [
            "22280 7644 511 3473\n"
          ],
          "name": "stdout"
        }
      ]
    },
    {
      "cell_type": "markdown",
      "metadata": {
        "id": "nhhPg95dS3AP"
      },
      "source": [
        "Accuracy is one metric for evaluating classification models. Informally, accuracy is the fraction of predictions our model got right.\n",
        "\n",
        "$Accuracy = \\frac{TP+TN}{TP+FN+TN+FP}$\n"
      ]
    },
    {
      "cell_type": "code",
      "metadata": {
        "colab": {
          "base_uri": "https://localhost:8080/"
        },
        "id": "WBRxNg70XU-u",
        "outputId": "c0bc5757-77c0-492e-90ca-f8f67f813620"
      },
      "source": [
        "accuracy=(tp+tn)/(tn+fp+fn+tp)\n",
        "print(\"Accuracy is\",accuracy)"
      ],
      "execution_count": null,
      "outputs": [
        {
          "output_type": "stream",
          "text": [
            "Accuracy is 0.759496284062758\n"
          ],
          "name": "stdout"
        }
      ]
    },
    {
      "cell_type": "code",
      "metadata": {
        "colab": {
          "base_uri": "https://localhost:8080/"
        },
        "id": "Jv5ISN9UX_7x",
        "outputId": "ef96e974-3575-4c88-86b6-bc6ede168e55"
      },
      "source": [
        "from sklearn.metrics import accuracy_score\n",
        "accuracy_score(d.y, d.y_pred)"
      ],
      "execution_count": null,
      "outputs": [
        {
          "output_type": "execute_result",
          "data": {
            "text/plain": [
              "0.8162675474814203"
            ]
          },
          "metadata": {
            "tags": []
          },
          "execution_count": 9
        }
      ]
    },
    {
      "cell_type": "markdown",
      "metadata": {
        "id": "Ovi1w6UgFqYH"
      },
      "source": [
        "$TruePositiveRate = \\frac{TP}{TP+FN}$; also called as Senstitivity or Recall."
      ]
    },
    {
      "cell_type": "code",
      "metadata": {
        "id": "t3XEByINF6hE",
        "colab": {
          "base_uri": "https://localhost:8080/"
        },
        "outputId": "613333fd-dcac-4b4c-9657-7fb450e64f50"
      },
      "source": [
        "true_positive_rate=tp/(tp+fn)\n",
        "print(\"True Positive Rate is\",true_positive_rate)"
      ],
      "execution_count": null,
      "outputs": [
        {
          "output_type": "stream",
          "text": [
            "True Positive Rate is 0.7929216867469879\n"
          ],
          "name": "stdout"
        }
      ]
    },
    {
      "cell_type": "markdown",
      "metadata": {
        "id": "eM2832kEF8Yx"
      },
      "source": [
        "$TrueNegativeRate=\\frac{TN}{TN+FP}$ ; also called as Specificity"
      ]
    },
    {
      "cell_type": "code",
      "metadata": {
        "id": "E7w1CDGiGeLH",
        "colab": {
          "base_uri": "https://localhost:8080/"
        },
        "outputId": "a924588f-9532-4982-c7ff-844d770ef035"
      },
      "source": [
        "true_negative_rate=tn/(tn+fp)\n",
        "print(\"True Negative Rate is\",true_negative_rate)"
      ],
      "execution_count": null,
      "outputs": [
        {
          "output_type": "stream",
          "text": [
            "True Negative Rate is 0.8193757519048256\n"
          ],
          "name": "stdout"
        }
      ]
    },
    {
      "cell_type": "markdown",
      "metadata": {
        "id": "UXHUq2TwWCgg"
      },
      "source": [
        "$Precision=\\frac{TP}{TP+FP}$ "
      ]
    },
    {
      "cell_type": "code",
      "metadata": {
        "id": "fwJ7yctqXeJy",
        "colab": {
          "base_uri": "https://localhost:8080/"
        },
        "outputId": "877849b0-a9a3-438d-d9ee-9e8df31c15dc"
      },
      "source": [
        "precision=tp/(tp+fp)\n",
        "print(\"Precision is\",precision)"
      ],
      "execution_count": null,
      "outputs": [
        {
          "output_type": "stream",
          "text": [
            "Precision is 0.3688696870621205\n"
          ],
          "name": "stdout"
        }
      ]
    },
    {
      "cell_type": "code",
      "metadata": {
        "colab": {
          "base_uri": "https://localhost:8080/"
        },
        "id": "uuCIuBBvatI0",
        "outputId": "ff887609-f469-4327-d80f-a0ac8c6f4813"
      },
      "source": [
        "from sklearn.metrics import precision_score\n",
        "precision_score(d.y, d.y_pred)"
      ],
      "execution_count": null,
      "outputs": [
        {
          "output_type": "execute_result",
          "data": {
            "text/plain": [
              "0.3688696870621205"
            ]
          },
          "metadata": {
            "tags": []
          },
          "execution_count": 13
        }
      ]
    },
    {
      "cell_type": "markdown",
      "metadata": {
        "id": "OI4mExkMXsfd"
      },
      "source": [
        "$FalsePositiveRate= \\frac{FP}{FP+TN}$"
      ]
    },
    {
      "cell_type": "code",
      "metadata": {
        "id": "-PAFBb9nYPWE",
        "colab": {
          "base_uri": "https://localhost:8080/"
        },
        "outputId": "f4fc1d3f-ea38-485e-b157-64e2297da006"
      },
      "source": [
        "false_positive_rate=fp/(fp+tn)\n",
        "print(\"False Positive Rate is\",false_positive_rate)"
      ],
      "execution_count": null,
      "outputs": [
        {
          "output_type": "stream",
          "text": [
            "False Positive Rate is 0.18062424809517444\n"
          ],
          "name": "stdout"
        }
      ]
    },
    {
      "cell_type": "markdown",
      "metadata": {
        "id": "ZQ7_8q_SYQL5"
      },
      "source": [
        "$FalseNegativeRate=\\frac{FN}{TP}$"
      ]
    },
    {
      "cell_type": "code",
      "metadata": {
        "id": "EQn5B0xwYbP_",
        "colab": {
          "base_uri": "https://localhost:8080/"
        },
        "outputId": "315b34a3-2f9f-4bcd-d55e-c8ae284f5456"
      },
      "source": [
        "false_negative_rate=fn/(fn+tp)\n",
        "print(\"False Negative Rate is\",false_negative_rate)"
      ],
      "execution_count": null,
      "outputs": [
        {
          "output_type": "stream",
          "text": [
            "False Negative Rate is 0.20707831325301204\n"
          ],
          "name": "stdout"
        }
      ]
    },
    {
      "cell_type": "markdown",
      "metadata": {
        "id": "2TiSB0w5IhUH"
      },
      "source": [
        "**F1 Score** The F1 score is the harmonic mean of the precision and recall.\n",
        "\n",
        "$F1 Score=2\\frac{Precision*Recall}{Precision+Recall}$\n"
      ]
    },
    {
      "cell_type": "code",
      "metadata": {
        "colab": {
          "base_uri": "https://localhost:8080/"
        },
        "id": "jHpdQy13bItv",
        "outputId": "a0303534-a51b-4ba8-93fc-0d13f9053170"
      },
      "source": [
        "f1=2*(precision*true_positive_rate)/(precision+true_positive_rate)\n",
        "print(\"F1 Score is\",f1)\n",
        "from sklearn.metrics import f1_score\n",
        "f1_score(d.y, d.y_pred)"
      ],
      "execution_count": null,
      "outputs": [
        {
          "output_type": "stream",
          "text": [
            "F1 Score is 0.5035065349059611\n"
          ],
          "name": "stdout"
        },
        {
          "output_type": "execute_result",
          "data": {
            "text/plain": [
              "0.5035065349059611"
            ]
          },
          "metadata": {
            "tags": []
          },
          "execution_count": 19
        }
      ]
    },
    {
      "cell_type": "markdown",
      "metadata": {
        "id": "Rzl0WhPYYfnj"
      },
      "source": [
        "An **ROC** curve (receiver operating characteristic curve) is a graph showing the performance of a classification model at all classification thresholds. This curve plots two parameters:\n",
        "\n",
        "+ True Positive Rate\n",
        "+ False Positive Rate\n",
        "\n",
        "An ROC curve plots TPR vs. FPR at different classification thresholds. Lowering the classification threshold classifies more items as positive, thus increasing both False Positives and True Positives. The following figure shows a typical ROC curve."
      ]
    },
    {
      "cell_type": "markdown",
      "metadata": {
        "id": "j0egHJl-qnsI"
      },
      "source": [
        "**AUC: Area Under the ROC Curve**\n",
        "\n",
        "AUC stands for \"Area under the ROC Curve.\" That is, AUC measures the entire two-dimensional area underneath the entire ROC curve (think integral calculus) from (0,0) to (1,1)."
      ]
    },
    {
      "cell_type": "code",
      "metadata": {
        "id": "OHtPWkEDqroh",
        "colab": {
          "base_uri": "https://localhost:8080/"
        },
        "outputId": "fc125e4e-6715-4e31-bebf-54b3aaa0aca5"
      },
      "source": [
        "from sklearn.metrics import roc_auc_score\n",
        "roc_auc_score(d.y,d.y_pred)"
      ],
      "execution_count": null,
      "outputs": [
        {
          "output_type": "execute_result",
          "data": {
            "text/plain": [
              "0.8110308665486703"
            ]
          },
          "metadata": {
            "tags": []
          },
          "execution_count": 42
        }
      ]
    },
    {
      "cell_type": "markdown",
      "metadata": {
        "id": "18WHYd6Jq8HU"
      },
      "source": [
        "AUC is desirable for the following two reasons:\n",
        "\n",
        "1. AUC is **scale-invariant.** It measures how well predictions are ranked, rather than their absolute values.\n",
        "1. AUC is **classification-threshold-invariant.** It measures the quality of the model's predictions irrespective of what classification threshold is chosen."
      ]
    },
    {
      "cell_type": "markdown",
      "metadata": {
        "id": "I0fVYUGr9Bld"
      },
      "source": [
        "**KS test** is one of goodness-of-fit tests. This statistical test is used to decide if a sample from population comes from specific distribution. It is useful to compare between two distributions in population.\n",
        "It is widely used in BFSI domain. \n",
        "\n",
        "**H0** both cumulative distributions are similar. \n",
        "**H1**  cumulative distributions are different.\n",
        "\n",
        "It helps us to understand how well our predictive model is able to discriminate between events (positive) and non-events(negative)."
      ]
    },
    {
      "cell_type": "code",
      "metadata": {
        "id": "Zq3cqJGH-Up5"
      },
      "source": [
        "def ks(data=None,target=None, prob=None):\n",
        "    data['target0'] = 1 - data[target]\n",
        "    data['bucket'] = pd.qcut(data[prob], 10)\n",
        "    grouped = data.groupby('bucket', as_index = False)\n",
        "    kstable = pd.DataFrame()\n",
        "    kstable['min_prob'] = grouped.min()[prob]\n",
        "    kstable['max_prob'] = grouped.max()[prob]\n",
        "    kstable['events']   = grouped.sum()[target]\n",
        "    kstable['nonevents'] = grouped.sum()['target0']\n",
        "    kstable['N'] = kstable['events'] + kstable['nonevents']\n",
        "    kstable = kstable.sort_values(by=\"min_prob\", ascending=False).reset_index(drop = True)\n",
        "    kstable['event_rate'] = (kstable.events / data[target].sum()).apply('{0:.2%}'.format)\n",
        "    kstable['nonevent_rate'] = (kstable.nonevents / data['target0'].sum()).apply('{0:.2%}'.format)\n",
        "    kstable['cum_eventrate']=(kstable.events / data[target].sum()).cumsum()\n",
        "    kstable['cum_noneventrate']=(kstable.nonevents / data['target0'].sum()).cumsum()\n",
        "    kstable['KS'] = np.round(kstable['cum_eventrate']-kstable['cum_noneventrate'], 3) * 100\n",
        "    kstable['Lift']=kstable['cum_eventrate']/(kstable['N'].cumsum()/kstable['N'].sum())\n",
        "    #Formating\n",
        "    kstable['cum_eventrate']= kstable['cum_eventrate'].apply('{0:.2%}'.format)\n",
        "    kstable['cum_noneventrate']= kstable['cum_noneventrate'].apply('{0:.2%}'.format)\n",
        "    \n",
        "    \n",
        "    \n",
        "    kstable.index = range(1,11)\n",
        "    kstable.index.rename('Decile', inplace=True)\n",
        "    pd.set_option('display.max_columns',11)\n",
        "   \n",
        "    return(kstable)"
      ],
      "execution_count": null,
      "outputs": []
    },
    {
      "cell_type": "code",
      "metadata": {
        "colab": {
          "base_uri": "https://localhost:8080/",
          "height": 390
        },
        "id": "AymWgYnng8fe",
        "outputId": "f2bf8ad6-9ec0-45f7-d269-d7c3fb6306da"
      },
      "source": [
        "ks(data=d,target=\"y\", prob=\"prob\")"
      ],
      "execution_count": null,
      "outputs": [
        {
          "output_type": "execute_result",
          "data": {
            "text/html": [
              "<div>\n",
              "<style scoped>\n",
              "    .dataframe tbody tr th:only-of-type {\n",
              "        vertical-align: middle;\n",
              "    }\n",
              "\n",
              "    .dataframe tbody tr th {\n",
              "        vertical-align: top;\n",
              "    }\n",
              "\n",
              "    .dataframe thead th {\n",
              "        text-align: right;\n",
              "    }\n",
              "</style>\n",
              "<table border=\"1\" class=\"dataframe\">\n",
              "  <thead>\n",
              "    <tr style=\"text-align: right;\">\n",
              "      <th></th>\n",
              "      <th>min_prob</th>\n",
              "      <th>max_prob</th>\n",
              "      <th>events</th>\n",
              "      <th>nonevents</th>\n",
              "      <th>N</th>\n",
              "      <th>event_rate</th>\n",
              "      <th>nonevent_rate</th>\n",
              "      <th>cum_eventrate</th>\n",
              "      <th>cum_noneventrate</th>\n",
              "      <th>KS</th>\n",
              "      <th>Lift</th>\n",
              "    </tr>\n",
              "    <tr>\n",
              "      <th>Decile</th>\n",
              "      <th></th>\n",
              "      <th></th>\n",
              "      <th></th>\n",
              "      <th></th>\n",
              "      <th></th>\n",
              "      <th></th>\n",
              "      <th></th>\n",
              "      <th></th>\n",
              "      <th></th>\n",
              "      <th></th>\n",
              "      <th></th>\n",
              "    </tr>\n",
              "  </thead>\n",
              "  <tbody>\n",
              "    <tr>\n",
              "      <th>1</th>\n",
              "      <td>0.808292</td>\n",
              "      <td>1.000000</td>\n",
              "      <td>1761</td>\n",
              "      <td>1630</td>\n",
              "      <td>3391</td>\n",
              "      <td>44.20%</td>\n",
              "      <td>5.45%</td>\n",
              "      <td>44.20%</td>\n",
              "      <td>5.45%</td>\n",
              "      <td>38.8</td>\n",
              "      <td>4.419920</td>\n",
              "    </tr>\n",
              "    <tr>\n",
              "      <th>2</th>\n",
              "      <td>0.591551</td>\n",
              "      <td>0.808214</td>\n",
              "      <td>1043</td>\n",
              "      <td>2348</td>\n",
              "      <td>3391</td>\n",
              "      <td>26.18%</td>\n",
              "      <td>7.85%</td>\n",
              "      <td>70.38%</td>\n",
              "      <td>13.29%</td>\n",
              "      <td>57.1</td>\n",
              "      <td>3.518869</td>\n",
              "    </tr>\n",
              "    <tr>\n",
              "      <th>3</th>\n",
              "      <td>0.432037</td>\n",
              "      <td>0.591457</td>\n",
              "      <td>583</td>\n",
              "      <td>2808</td>\n",
              "      <td>3391</td>\n",
              "      <td>14.63%</td>\n",
              "      <td>9.38%</td>\n",
              "      <td>85.02%</td>\n",
              "      <td>22.68%</td>\n",
              "      <td>62.3</td>\n",
              "      <td>2.833668</td>\n",
              "    </tr>\n",
              "    <tr>\n",
              "      <th>4</th>\n",
              "      <td>0.324549</td>\n",
              "      <td>0.431987</td>\n",
              "      <td>278</td>\n",
              "      <td>3112</td>\n",
              "      <td>3390</td>\n",
              "      <td>6.98%</td>\n",
              "      <td>10.40%</td>\n",
              "      <td>91.99%</td>\n",
              "      <td>33.08%</td>\n",
              "      <td>58.9</td>\n",
              "      <td>2.299858</td>\n",
              "    </tr>\n",
              "    <tr>\n",
              "      <th>5</th>\n",
              "      <td>0.251025</td>\n",
              "      <td>0.324507</td>\n",
              "      <td>155</td>\n",
              "      <td>3236</td>\n",
              "      <td>3391</td>\n",
              "      <td>3.89%</td>\n",
              "      <td>10.81%</td>\n",
              "      <td>95.88%</td>\n",
              "      <td>43.89%</td>\n",
              "      <td>52.0</td>\n",
              "      <td>1.917671</td>\n",
              "    </tr>\n",
              "    <tr>\n",
              "      <th>6</th>\n",
              "      <td>0.190676</td>\n",
              "      <td>0.251022</td>\n",
              "      <td>85</td>\n",
              "      <td>3306</td>\n",
              "      <td>3391</td>\n",
              "      <td>2.13%</td>\n",
              "      <td>11.05%</td>\n",
              "      <td>98.02%</td>\n",
              "      <td>54.94%</td>\n",
              "      <td>43.1</td>\n",
              "      <td>1.633602</td>\n",
              "    </tr>\n",
              "    <tr>\n",
              "      <th>7</th>\n",
              "      <td>0.139222</td>\n",
              "      <td>0.190664</td>\n",
              "      <td>46</td>\n",
              "      <td>3344</td>\n",
              "      <td>3390</td>\n",
              "      <td>1.15%</td>\n",
              "      <td>11.17%</td>\n",
              "      <td>99.17%</td>\n",
              "      <td>66.11%</td>\n",
              "      <td>33.1</td>\n",
              "      <td>1.416774</td>\n",
              "    </tr>\n",
              "    <tr>\n",
              "      <th>8</th>\n",
              "      <td>0.095562</td>\n",
              "      <td>0.139178</td>\n",
              "      <td>22</td>\n",
              "      <td>3369</td>\n",
              "      <td>3391</td>\n",
              "      <td>0.55%</td>\n",
              "      <td>11.26%</td>\n",
              "      <td>99.72%</td>\n",
              "      <td>77.37%</td>\n",
              "      <td>22.4</td>\n",
              "      <td>1.246567</td>\n",
              "    </tr>\n",
              "    <tr>\n",
              "      <th>9</th>\n",
              "      <td>0.058250</td>\n",
              "      <td>0.095540</td>\n",
              "      <td>7</td>\n",
              "      <td>3384</td>\n",
              "      <td>3391</td>\n",
              "      <td>0.18%</td>\n",
              "      <td>11.31%</td>\n",
              "      <td>99.90%</td>\n",
              "      <td>88.68%</td>\n",
              "      <td>11.2</td>\n",
              "      <td>1.110003</td>\n",
              "    </tr>\n",
              "    <tr>\n",
              "      <th>10</th>\n",
              "      <td>0.000146</td>\n",
              "      <td>0.058247</td>\n",
              "      <td>4</td>\n",
              "      <td>3387</td>\n",
              "      <td>3391</td>\n",
              "      <td>0.10%</td>\n",
              "      <td>11.32%</td>\n",
              "      <td>100.00%</td>\n",
              "      <td>100.00%</td>\n",
              "      <td>0.0</td>\n",
              "      <td>1.000000</td>\n",
              "    </tr>\n",
              "  </tbody>\n",
              "</table>\n",
              "</div>"
            ],
            "text/plain": [
              "        min_prob  max_prob  events  nonevents     N event_rate nonevent_rate  \\\n",
              "Decile                                                                         \n",
              "1       0.808292  1.000000    1761       1630  3391     44.20%         5.45%   \n",
              "2       0.591551  0.808214    1043       2348  3391     26.18%         7.85%   \n",
              "3       0.432037  0.591457     583       2808  3391     14.63%         9.38%   \n",
              "4       0.324549  0.431987     278       3112  3390      6.98%        10.40%   \n",
              "5       0.251025  0.324507     155       3236  3391      3.89%        10.81%   \n",
              "6       0.190676  0.251022      85       3306  3391      2.13%        11.05%   \n",
              "7       0.139222  0.190664      46       3344  3390      1.15%        11.17%   \n",
              "8       0.095562  0.139178      22       3369  3391      0.55%        11.26%   \n",
              "9       0.058250  0.095540       7       3384  3391      0.18%        11.31%   \n",
              "10      0.000146  0.058247       4       3387  3391      0.10%        11.32%   \n",
              "\n",
              "       cum_eventrate cum_noneventrate    KS      Lift  \n",
              "Decile                                                 \n",
              "1             44.20%            5.45%  38.8  4.419920  \n",
              "2             70.38%           13.29%  57.1  3.518869  \n",
              "3             85.02%           22.68%  62.3  2.833668  \n",
              "4             91.99%           33.08%  58.9  2.299858  \n",
              "5             95.88%           43.89%  52.0  1.917671  \n",
              "6             98.02%           54.94%  43.1  1.633602  \n",
              "7             99.17%           66.11%  33.1  1.416774  \n",
              "8             99.72%           77.37%  22.4  1.246567  \n",
              "9             99.90%           88.68%  11.2  1.110003  \n",
              "10           100.00%          100.00%   0.0  1.000000  "
            ]
          },
          "metadata": {
            "tags": []
          },
          "execution_count": 67
        }
      ]
    },
    {
      "cell_type": "code",
      "metadata": {
        "colab": {
          "base_uri": "https://localhost:8080/"
        },
        "id": "ZxSUMRjzh9ow",
        "outputId": "96121c63-7adb-4159-ae8c-be8661c1757a"
      },
      "source": [
        "from scipy.stats import ks_2samp\n",
        "ks_2samp(d.loc[d.y==0,\"prob\"], d.loc[d.y==1,\"prob\"])"
      ],
      "execution_count": null,
      "outputs": [
        {
          "output_type": "execute_result",
          "data": {
            "text/plain": [
              "Ks_2sampResult(statistic=0.6237771229282858, pvalue=0.0)"
            ]
          },
          "metadata": {
            "tags": []
          },
          "execution_count": 50
        }
      ]
    },
    {
      "cell_type": "markdown",
      "metadata": {
        "id": "EaNb63Qto5Rf"
      },
      "source": [
        "**Gain and Lift**\n",
        "\n",
        "They measure how much better one can expect to do with the predictive model comparing without a model. It's a very popular metrics in marketing analytics. It's not just restricted to marketing analysis. It can be used in other domains as well such as risk modeling, supply chain analytics etc. It also helps to find the best predictive model among multiple challenger models."
      ]
    },
    {
      "cell_type": "markdown",
      "metadata": {
        "id": "n2YMggKTAYMe"
      },
      "source": [
        "**Concordant** : Percentage of pairs where the observation with the desired outcome (event) has a higher predicted probability than the observation without the outcome (non-event).\n",
        "\n",
        "**Discordant** : Percentage of pairs where the observation with the desired outcome (event) has a lower predicted probability than the observation without the outcome (non-event).\n",
        "\n",
        "**Tied**: Percentage of pairs where the observation with the desired outcome (event) has same predicted probability than the observation without the outcome (non-event)."
      ]
    },
    {
      "cell_type": "code",
      "metadata": {
        "id": "EuRzV9ABB2QY"
      },
      "source": [
        "Event=d.loc[d.y==1]\n",
        "Non_event=d.loc[d.y==0]"
      ],
      "execution_count": null,
      "outputs": []
    },
    {
      "cell_type": "code",
      "metadata": {
        "colab": {
          "base_uri": "https://localhost:8080/"
        },
        "id": "nLgSdGJlAei6",
        "outputId": "2e716d68-c7c3-453e-efeb-fddb42783dde"
      },
      "source": [
        "Pairs=0\n",
        "Conc=0\n",
        "Disc=0\n",
        "Tie=0\n",
        "for i in Event.prob:\n",
        "  for j in Non_event.prob:\n",
        "    Pairs+=1\n",
        "    if (i>j):\n",
        "      Conc+=1\n",
        "    elif (i<j):\n",
        "      Disc+=1\n",
        "    else:\n",
        "      Tie+=1\n",
        "print(\"===========================================================\")\n",
        "print(\"Total pairs\",Pairs)\n",
        "print(\"Total Conc\", Conc)\n",
        "print(\"Total Disc\", Disc)\n",
        "print(\"Total Tie\", Tie)\n",
        "print(\"The percentage of Concordance\",round(Conc/Pairs*100,3),\"%\")\n",
        "print(\"The percentage of Discordance\",round(Disc/Pairs*100,3),\"%\")\n",
        "print(\"The percentage of Tie\",round(Tie/Pairs*100,3),\"%\")"
      ],
      "execution_count": null,
      "outputs": [
        {
          "output_type": "stream",
          "text": [
            "===========================================================\n",
            "Total pairs 119217216\n",
            "Total Conc 105291696\n",
            "Total Disc 13925520\n",
            "Total Tie 0\n",
            "The percentage of Concordance 88.319 %\n",
            "The percentage of Discordance 11.681 %\n",
            "The percentage of Tie 0.0 %\n"
          ],
          "name": "stdout"
        }
      ]
    },
    {
      "cell_type": "markdown",
      "metadata": {
        "id": "w3nDBpDyAtsN"
      },
      "source": [
        "**Gini (Somer's D)**\n",
        "\n",
        "It is a common measure for assessing predictive power of a credit risk model. It measures the degree to which the model has better discrimination power than the model with random scores.\n",
        "\n",
        "$Somer's D =  \\frac{(Concordant Percent  - Discordant Percent)}{100} $\n",
        "\n"
      ]
    },
    {
      "cell_type": "code",
      "metadata": {
        "colab": {
          "base_uri": "https://localhost:8080/"
        },
        "id": "hc9qkU13viVY",
        "outputId": "63b69305-d0dd-4afb-e1d9-230588db451b"
      },
      "source": [
        "print(\"Somers D is\",(Conc-Disc-Tie)/Pairs)"
      ],
      "execution_count": null,
      "outputs": [
        {
          "output_type": "stream",
          "text": [
            "Somers D is 0.7663840766085328\n"
          ],
          "name": "stdout"
        }
      ]
    },
    {
      "cell_type": "code",
      "metadata": {
        "colab": {
          "base_uri": "https://localhost:8080/"
        },
        "id": "oMD3MBKRfQZ7",
        "outputId": "b2bee715-32cd-4195-dc65-140fa5e0058f"
      },
      "source": [
        "from scipy.stats import mannwhitneyu\n",
        "mannwhitneyu(d.loc[d.y==0,\"prob\"], d.loc[d.y==1,\"prob\"])"
      ],
      "execution_count": null,
      "outputs": [
        {
          "output_type": "execute_result",
          "data": {
            "text/plain": [
              "MannwhitneyuResult(statistic=13925520.0, pvalue=0.0)"
            ]
          },
          "metadata": {
            "tags": []
          },
          "execution_count": 10
        }
      ]
    }
  ]
}